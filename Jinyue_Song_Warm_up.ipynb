{
 "cells": [
  {
   "cell_type": "markdown",
   "metadata": {},
   "source": [
    "# Warm-up "
   ]
  },
  {
   "cell_type": "code",
   "execution_count": 1,
   "metadata": {
    "scrolled": false
   },
   "outputs": [
    {
     "name": "stdout",
     "output_type": "stream",
     "text": [
      "StructType(List(StructField(Timestamp,LongType,true),StructField(Geohash,StringType,true),StructField(geopotential_height_lltw,FloatType,true),StructField(water_equiv_of_accum_snow_depth_surface,FloatType,true),StructField(drag_coefficient_surface,FloatType,true),StructField(sensible_heat_net_flux_surface,FloatType,true),StructField(categorical_ice_pellets_yes1_no0_surface,FloatType,true),StructField(visibility_surface,FloatType,true),StructField(number_of_soil_layers_in_root_zone_surface,FloatType,true),StructField(categorical_freezing_rain_yes1_no0_surface,FloatType,true),StructField(pressure_reduced_to_msl_msl,FloatType,true),StructField(upward_short_wave_rad_flux_surface,FloatType,true),StructField(relative_humidity_zerodegc_isotherm,FloatType,true),StructField(categorical_snow_yes1_no0_surface,FloatType,true),StructField(u-component_of_wind_tropopause,FloatType,true),StructField(surface_wind_gust_surface,FloatType,true),StructField(total_cloud_cover_entire_atmosphere,FloatType,true),StructField(upward_long_wave_rad_flux_surface,FloatType,true),StructField(land_cover_land1_sea0_surface,FloatType,true),StructField(vegitation_type_as_in_sib_surface,FloatType,true),StructField(v-component_of_wind_pblri,FloatType,true),StructField(albedo_surface,FloatType,true),StructField(lightning_surface,FloatType,true),StructField(ice_cover_ice1_no_ice0_surface,FloatType,true),StructField(convective_inhibition_surface,FloatType,true),StructField(pressure_surface,FloatType,true),StructField(transpiration_stress-onset_soil_moisture_surface,FloatType,true),StructField(soil_porosity_surface,FloatType,true),StructField(vegetation_surface,FloatType,true),StructField(categorical_rain_yes1_no0_surface,FloatType,true),StructField(downward_long_wave_rad_flux_surface,FloatType,true),StructField(planetary_boundary_layer_height_surface,FloatType,true),StructField(soil_type_as_in_zobler_surface,FloatType,true),StructField(geopotential_height_cloud_base,FloatType,true),StructField(friction_velocity_surface,FloatType,true),StructField(maximumcomposite_radar_reflectivity_entire_atmosphere,FloatType,true),StructField(plant_canopy_surface_water_surface,FloatType,true),StructField(v-component_of_wind_maximum_wind,FloatType,true),StructField(geopotential_height_zerodegc_isotherm,FloatType,true),StructField(mean_sea_level_pressure_nam_model_reduction_msl,FloatType,true),StructField(temperature_surface,FloatType,true),StructField(snow_cover_surface,FloatType,true),StructField(geopotential_height_surface,FloatType,true),StructField(convective_available_potential_energy_surface,FloatType,true),StructField(latent_heat_net_flux_surface,FloatType,true),StructField(surface_roughness_surface,FloatType,true),StructField(pressure_maximum_wind,FloatType,true),StructField(temperature_tropopause,FloatType,true),StructField(geopotential_height_pblri,FloatType,true),StructField(pressure_tropopause,FloatType,true),StructField(snow_depth_surface,FloatType,true),StructField(v-component_of_wind_tropopause,FloatType,true),StructField(downward_short_wave_rad_flux_surface,FloatType,true),StructField(u-component_of_wind_maximum_wind,FloatType,true),StructField(wilting_point_surface,FloatType,true),StructField(precipitable_water_entire_atmosphere,FloatType,true),StructField(u-component_of_wind_pblri,FloatType,true),StructField(direct_evaporation_cease_soil_moisture_surface,FloatType,true),StructField(,FloatType,true)))\n"
     ]
    }
   ],
   "source": [
    "from datetime import datetime\n",
    "\n",
    "from pyspark.sql.types import StructType, StructField, FloatType, LongType, StringType\n",
    "\n",
    "feats = []\n",
    "f = open('features.txt')\n",
    "for line_num, line in enumerate(f):\n",
    "    if line_num == 0:\n",
    "        # Timestamp\n",
    "        feats.append(StructField(line.strip(), LongType(), True))\n",
    "    elif line_num == 1:\n",
    "        # Geohash\n",
    "        feats.append(StructField(line.strip(), StringType(), True))\n",
    "    else:\n",
    "        # Other features\n",
    "        feats.append(StructField(line.strip(), FloatType(), True))\n",
    "    \n",
    "schema = StructType(feats)\n",
    "\n",
    "print(schema)"
   ]
  },
  {
   "cell_type": "code",
   "execution_count": 2,
   "metadata": {},
   "outputs": [
    {
     "data": {
      "text/plain": [
       "[Row(Timestamp=1430438400000, Geohash='dndf9tz5r8eb', geopotential_height_lltw=1915.593994140625, water_equiv_of_accum_snow_depth_surface=0.0, drag_coefficient_surface=0.0, sensible_heat_net_flux_surface=-12.571273803710938, categorical_ice_pellets_yes1_no0_surface=0.0, visibility_surface=24220.529296875, number_of_soil_layers_in_root_zone_surface=3.0, categorical_freezing_rain_yes1_no0_surface=0.0, pressure_reduced_to_msl_msl=101235.0, upward_short_wave_rad_flux_surface=4.25, relative_humidity_zerodegc_isotherm=95.0, categorical_snow_yes1_no0_surface=0.0, u-component_of_wind_tropopause=20.28228759765625, surface_wind_gust_surface=3.9325132369995117, total_cloud_cover_entire_atmosphere=98.0, upward_long_wave_rad_flux_surface=371.25927734375, land_cover_land1_sea0_surface=1.0, vegitation_type_as_in_sib_surface=10.0, v-component_of_wind_pblri=-3.47259521484375, albedo_surface=17.25, lightning_surface=0.0, ice_cover_ice1_no_ice0_surface=0.0, convective_inhibition_surface=-12.582763671875, pressure_surface=98873.0, transpiration_stress-onset_soil_moisture_surface=0.35999998450279236, soil_porosity_surface=0.5, vegetation_surface=74.75, categorical_rain_yes1_no0_surface=0.0, downward_long_wave_rad_flux_surface=352.7455749511719, planetary_boundary_layer_height_surface=3799.75, soil_type_as_in_zobler_surface=4.0, geopotential_height_cloud_base=1795.5, friction_velocity_surface=0.12634363770484924, maximumcomposite_radar_reflectivity_entire_atmosphere=-5.625, plant_canopy_surface_water_surface=0.17249999940395355, v-component_of_wind_maximum_wind=-36.30204772949219, geopotential_height_zerodegc_isotherm=1940.0, mean_sea_level_pressure_nam_model_reduction_msl=101249.0, temperature_surface=284.513916015625, snow_cover_surface=0.0, geopotential_height_surface=199.8200225830078, convective_available_potential_energy_surface=320.0, latent_heat_net_flux_surface=6.516082763671875, surface_roughness_surface=0.1750158965587616, pressure_maximum_wind=36921.1640625, temperature_tropopause=211.69955444335938, geopotential_height_pblri=85.20362854003906, pressure_tropopause=10801.0634765625, snow_depth_surface=0.0, v-component_of_wind_tropopause=-10.068893432617188, downward_short_wave_rad_flux_surface=24.375, u-component_of_wind_maximum_wind=37.93487548828125, wilting_point_surface=0.08374999463558197, precipitable_water_entire_atmosphere=14.878089904785156, u-component_of_wind_pblri=-0.27671051025390625, direct_evaporation_cease_soil_moisture_surface=0.08374999463558197, =None)]"
      ]
     },
     "execution_count": 2,
     "metadata": {},
     "output_type": "execute_result"
    }
   ],
   "source": [
    "#df = spark.read.format('csv').option('sep', '\\t').schema(schema).load('/Volumes/evo/Datasets/NAM_2015_S/*')\n",
    "df = spark.read.format('csv').option('sep', '\\t').schema(schema).load('hdfs://orion11:20910/datasets/*')\n",
    "df.take(1)"
   ]
  },
  {
   "cell_type": "code",
   "execution_count": 3,
   "metadata": {},
   "outputs": [
    {
     "name": "stdout",
     "output_type": "stream",
     "text": [
      "+-------+------------------------------------+\n",
      "|summary|precipitable_water_entire_atmosphere|\n",
      "+-------+------------------------------------+\n",
      "|  count|                           323759844|\n",
      "|   mean|                  22.161301063122153|\n",
      "| stddev|                  14.066149350632585|\n",
      "|    min|                          0.36906433|\n",
      "|    max|                            99.31735|\n",
      "+-------+------------------------------------+\n",
      "\n",
      "Finished. it's been 194 seconds\n"
     ]
    }
   ],
   "source": [
    "started_at = datetime.now()\n",
    "\n",
    "df.describe('precipitable_water_entire_atmosphere').show()\n",
    "\n",
    "print(\"Finished. it's been \" + str((datetime.now()-started_at).seconds) + \" seconds\")"
   ]
  },
  {
   "cell_type": "markdown",
   "metadata": {},
   "source": [
    "## Q1: Unknown Feature: Choose a feature from the data dictionary above that you have never heard of before. Inspect some of the values for the feature (such as its average, min, max, etc.) and try to guess what it measures. Was your hypothesis correct? (Note: if you are a professional meteorologist, you can skip this question ;-))\n",
    "\n"
   ]
  },
  {
   "cell_type": "markdown",
   "metadata": {},
   "source": [
    "As shown the max water volumn is almost 5 times than the mean volumn. Max is 99.31735. Google says:\n",
    "The amount of precipitation that falls around the world may range from less than 0.1 inch per year in some deserts to more than 900 inches per year in the tropics. \n",
    "Then, I found, the amount of water volumn is really small."
   ]
  },
  {
   "cell_type": "markdown",
   "metadata": {},
   "source": [
    "## Q2: Hot hot hot: When and where was the hottest temperature observed in the dataset? Is it an anomaly?"
   ]
  },
  {
   "cell_type": "code",
   "execution_count": 3,
   "metadata": {},
   "outputs": [
    {
     "name": "stdout",
     "output_type": "stream",
     "text": [
      "+-------+-------------------+\n",
      "|summary|temperature_surface|\n",
      "+-------+-------------------+\n",
      "|  count|          323759844|\n",
      "|   mean|  287.8572096833751|\n",
      "| stddev| 13.716833944537786|\n",
      "|    min|          218.99284|\n",
      "|    max|          331.39062|\n",
      "+-------+-------------------+\n",
      "\n",
      "Finished. it's been 299 seconds\n",
      "+-------+----------------------+\n",
      "|summary|temperature_tropopause|\n",
      "+-------+----------------------+\n",
      "|  count|             323759844|\n",
      "|   mean|     209.9530500232586|\n",
      "| stddev|      9.63668344469262|\n",
      "|    min|             180.93707|\n",
      "|    max|             261.67834|\n",
      "+-------+----------------------+\n",
      "\n",
      "Finished. it's been 474 seconds\n"
     ]
    }
   ],
   "source": [
    "started_at = datetime.now()\n",
    "\n",
    "df.describe('temperature_surface').show()\n",
    "\n",
    "print(\"Finished. it's been \" + str((datetime.now()-started_at).seconds) + \" seconds\")\n",
    "\n",
    "df.describe('temperature_tropopause').show()\n",
    "\n",
    "print(\"Finished. it's been \" + str((datetime.now()-started_at).seconds) + \" seconds\")\n"
   ]
  },
  {
   "cell_type": "markdown",
   "metadata": {},
   "source": [
    "There are two features concerned about temperature. I will analyze the temperature surface first. Then, do the same analysis for temperature tropopause."
   ]
  },
  {
   "cell_type": "code",
   "execution_count": 4,
   "metadata": {},
   "outputs": [
    {
     "name": "stdout",
     "output_type": "stream",
     "text": [
      "Row(Timestamp=1440266400000, Geohash='d5dpds10m55b', geopotential_height_lltw=3781.90185546875, water_equiv_of_accum_snow_depth_surface=0.0, drag_coefficient_surface=0.0, sensible_heat_net_flux_surface=557.9180908203125, categorical_ice_pellets_yes1_no0_surface=0.0, visibility_surface=24224.66015625, number_of_soil_layers_in_root_zone_surface=4.0, categorical_freezing_rain_yes1_no0_surface=0.0, pressure_reduced_to_msl_msl=101332.0, upward_short_wave_rad_flux_surface=111.56889343261719, relative_humidity_zerodegc_isotherm=12.0, categorical_snow_yes1_no0_surface=0.0, u-component_of_wind_tropopause=-2.6672048568725586, surface_wind_gust_surface=2.5530638694763184, total_cloud_cover_entire_atmosphere=12.0, upward_long_wave_rad_flux_surface=682.604736328125, land_cover_land1_sea0_surface=1.0, vegitation_type_as_in_sib_surface=2.0, v-component_of_wind_pblri=0.5142669677734375, albedo_surface=11.0, lightning_surface=0.0, ice_cover_ice1_no_ice0_surface=0.0, convective_inhibition_surface=0.11083984375, pressure_surface=101294.0, transpiration_stress-onset_soil_moisture_surface=0.3824999928474426, soil_porosity_surface=0.5, vegetation_surface=80.75, categorical_rain_yes1_no0_surface=0.0, downward_long_wave_rad_flux_surface=489.9410095214844, planetary_boundary_layer_height_surface=3359.75, soil_type_as_in_zobler_surface=9.0, geopotential_height_cloud_base=1556.5, friction_velocity_surface=1.0507787466049194, maximumcomposite_radar_reflectivity_entire_atmosphere=-20.0, plant_canopy_surface_water_surface=0.0, v-component_of_wind_maximum_wind=11.034072875976562, geopotential_height_zerodegc_isotherm=5175.55419921875, mean_sea_level_pressure_nam_model_reduction_msl=101331.0, temperature_surface=331.390625, snow_cover_surface=0.0, geopotential_height_surface=3.3200225830078125, convective_available_potential_energy_surface=4660.0, latent_heat_net_flux_surface=85.23432922363281, surface_roughness_surface=2.7500159740448, pressure_maximum_wind=18127.9140625, temperature_tropopause=202.0126495361328, geopotential_height_pblri=2137.804931640625, pressure_tropopause=11077.3330078125, snow_depth_surface=0.0, v-component_of_wind_tropopause=2.1407318115234375, downward_short_wave_rad_flux_surface=990.880126953125, u-component_of_wind_maximum_wind=1.361968994140625, wilting_point_surface=0.10249999910593033, precipitable_water_entire_atmosphere=47.691375732421875, u-component_of_wind_pblri=-1.3730621337890625, direct_evaporation_cease_soil_moisture_surface=0.10249999910593033, =None)\n"
     ]
    }
   ],
   "source": [
    "surf_top_list = df.filter(df.temperature_surface > 331.3).take(10)\n",
    "for ele in surf_top_list:\n",
    "    print(ele)"
   ]
  },
  {
   "cell_type": "markdown",
   "metadata": {},
   "source": [
    "I use a tricky method to get the row containing the max temperature. \n",
    "\n",
    "First, use the describe method and get the max value. \n",
    "\n",
    "Then, use the filter to get the rows whose value is greater than (max - a_tiny_number). \n",
    "\n",
    "Then take the 10 elements. \n",
    "\n",
    "If the number of returned elements is 10, then enlarge the a_tiny_number value, so the make the boundy more close to the max. At the last round, the row contianing max value will be left.\n",
    "\n"
   ]
  },
  {
   "cell_type": "code",
   "execution_count": 6,
   "metadata": {},
   "outputs": [
    {
     "name": "stdout",
     "output_type": "stream",
     "text": [
      "Timestamp:  2015-08-22T11:00:00\n",
      "Geohash:  d5dpds10m55b\n"
     ]
    }
   ],
   "source": [
    "max_ele = surf_top_list[0]\n",
    "print('Timestamp: ', datetime.fromtimestamp(max_ele.Timestamp/1000).isoformat())\n",
    "print('Geohash: ', max_ele.Geohash)"
   ]
  },
  {
   "cell_type": "code",
   "execution_count": 7,
   "metadata": {},
   "outputs": [
    {
     "name": "stdout",
     "output_type": "stream",
     "text": [
      "Row(Timestamp=1451217600000, Geohash='9sgfcsv9d3s0', geopotential_height_lltw=944.68359375, water_equiv_of_accum_snow_depth_surface=1.0, drag_coefficient_surface=0.0, sensible_heat_net_flux_surface=-5.949005126953125, categorical_ice_pellets_yes1_no0_surface=0.0, visibility_surface=24223.779296875, number_of_soil_layers_in_root_zone_surface=3.0, categorical_freezing_rain_yes1_no0_surface=0.0, pressure_reduced_to_msl_msl=102038.0, upward_short_wave_rad_flux_surface=0.0, relative_humidity_zerodegc_isotherm=81.0, categorical_snow_yes1_no0_surface=0.0, u-component_of_wind_tropopause=43.98924255371094, surface_wind_gust_surface=4.927008628845215, total_cloud_cover_entire_atmosphere=0.0, upward_long_wave_rad_flux_surface=276.87347412109375, land_cover_land1_sea0_surface=1.0, vegitation_type_as_in_sib_surface=7.0, v-component_of_wind_pblri=-3.43695068359375, albedo_surface=26.5, lightning_surface=0.0, ice_cover_ice1_no_ice0_surface=0.0, convective_inhibition_surface=-1.0068359375, pressure_surface=76491.0, transpiration_stress-onset_soil_moisture_surface=0.32999998331069946, soil_porosity_surface=0.5, vegetation_surface=40.5, categorical_rain_yes1_no0_surface=0.0, downward_long_wave_rad_flux_surface=166.6602783203125, planetary_boundary_layer_height_surface=882.0, soil_type_as_in_zobler_surface=6.0, geopotential_height_cloud_base=-5000.0, friction_velocity_surface=0.20219740271568298, maximumcomposite_radar_reflectivity_entire_atmosphere=-20.0, plant_canopy_surface_water_surface=0.39249998331069946, v-component_of_wind_maximum_wind=-30.711593627929688, geopotential_height_zerodegc_isotherm=1000.0, mean_sea_level_pressure_nam_model_reduction_msl=101820.0, temperature_surface=264.2967529296875, snow_cover_surface=100.0, geopotential_height_surface=2298.820068359375, convective_available_potential_energy_surface=0.0, latent_heat_net_flux_surface=6.53448486328125, surface_roughness_surface=0.12501589953899384, pressure_maximum_wind=35526.0078125, temperature_tropopause=261.6783447265625, geopotential_height_pblri=120.14424896240234, pressure_tropopause=49826.47265625, snow_depth_surface=0.006719999946653843, v-component_of_wind_tropopause=-22.210540771484375, downward_short_wave_rad_flux_surface=0.0, u-component_of_wind_maximum_wind=56.650787353515625, wilting_point_surface=0.06624999642372131, precipitable_water_entire_atmosphere=1.375236988067627, u-component_of_wind_pblri=3.8159637451171875, direct_evaporation_cease_soil_moisture_surface=0.06624999642372131, =None)\n",
      "Row(Timestamp=1451260800000, Geohash='9ubj81dvn8pz', geopotential_height_lltw=1087.00390625, water_equiv_of_accum_snow_depth_surface=0.0, drag_coefficient_surface=0.0, sensible_heat_net_flux_surface=-53.309112548828125, categorical_ice_pellets_yes1_no0_surface=0.0, visibility_surface=24223.154296875, number_of_soil_layers_in_root_zone_surface=3.0, categorical_freezing_rain_yes1_no0_surface=0.0, pressure_reduced_to_msl_msl=101348.0, upward_short_wave_rad_flux_surface=0.0, relative_humidity_zerodegc_isotherm=64.0, categorical_snow_yes1_no0_surface=0.0, u-component_of_wind_tropopause=41.38414001464844, surface_wind_gust_surface=12.63907527923584, total_cloud_cover_entire_atmosphere=0.0, upward_long_wave_rad_flux_surface=350.957275390625, land_cover_land1_sea0_surface=1.0, vegitation_type_as_in_sib_surface=7.0, v-component_of_wind_pblri=-8.177520751953125, albedo_surface=27.5, lightning_surface=0.0, ice_cover_ice1_no_ice0_surface=0.0, convective_inhibition_surface=-3.10986328125, pressure_surface=96155.0, transpiration_stress-onset_soil_moisture_surface=0.32999998331069946, soil_porosity_surface=0.5, vegetation_surface=18.5, categorical_rain_yes1_no0_surface=0.0, downward_long_wave_rad_flux_surface=252.81787109375, planetary_boundary_layer_height_surface=4087.75, soil_type_as_in_zobler_surface=6.0, geopotential_height_cloud_base=-5000.0, friction_velocity_surface=0.4506632089614868, maximumcomposite_radar_reflectivity_entire_atmosphere=-20.0, plant_canopy_surface_water_surface=0.33249998092651367, v-component_of_wind_maximum_wind=0.7738494873046875, geopotential_height_zerodegc_isotherm=1440.0, mean_sea_level_pressure_nam_model_reduction_msl=101377.0, temperature_surface=280.4798278808594, snow_cover_surface=0.0, geopotential_height_surface=437.57000732421875, convective_available_potential_energy_surface=0.0, latent_heat_net_flux_surface=39.968963623046875, surface_roughness_surface=0.12501589953899384, pressure_maximum_wind=38525.89453125, temperature_tropopause=261.6397705078125, geopotential_height_pblri=1504.5904541015625, pressure_tropopause=49826.58984375, snow_depth_surface=0.0, v-component_of_wind_tropopause=9.136199951171875, downward_short_wave_rad_flux_surface=0.0, u-component_of_wind_maximum_wind=55.79881286621094, wilting_point_surface=0.06624999642372131, precipitable_water_entire_atmosphere=7.211650848388672, u-component_of_wind_pblri=13.168289184570312, direct_evaporation_cease_soil_moisture_surface=0.06624999642372131, =None)\n"
     ]
    }
   ],
   "source": [
    "trop_top_list = df.filter(df.temperature_tropopause > 261.6).take(10)\n",
    "for ele in trop_top_list:\n",
    "    print(ele)"
   ]
  },
  {
   "cell_type": "code",
   "execution_count": 8,
   "metadata": {},
   "outputs": [
    {
     "name": "stdout",
     "output_type": "stream",
     "text": [
      "Timestamp:  2015-12-27T04:00:00\n",
      "Geohash:  9sgfcsv9d3s0\n"
     ]
    }
   ],
   "source": [
    "import datetime\n",
    "import time\n",
    "\n",
    "max_ele = trop_top_list[0]\n",
    "print('Timestamp: ', datetime.datetime.fromtimestamp(max_ele.Timestamp/1000).isoformat())\n",
    "print('Geohash: ', max_ele.Geohash)"
   ]
  },
  {
   "cell_type": "markdown",
   "metadata": {},
   "source": [
    "There are two elements in the result list and obvious, the bigger one locates at position 0. \n",
    "Then, we have the timestamp and geohash.\n",
    "Based on the obeervation, there is nothing special for the data. One is at 2015-08-22T11:00:00 and another one is 2015-12-27T04:00:00.\n",
    "They are both at the end of the month. "
   ]
  },
  {
   "cell_type": "markdown",
   "metadata": {},
   "source": [
    "## Q3: So Snowy: Find a location that is snowy all year (there are several). Locate a nearby town/city and provide a small writeup about it. Include pictures if you’d like."
   ]
  },
  {
   "cell_type": "code",
   "execution_count": 3,
   "metadata": {},
   "outputs": [],
   "source": [
    "# Creating an SQL 'table'\n",
    "df.createOrReplaceTempView(\"TEMP_DF\")"
   ]
  },
  {
   "cell_type": "code",
   "execution_count": 4,
   "metadata": {},
   "outputs": [
    {
     "name": "stdout",
     "output_type": "stream",
     "text": [
      "Finished. it's been 556 seconds\n"
     ]
    }
   ],
   "source": [
    "started_at = datetime.now()\n",
    "\n",
    "snow = spark.sql(\"SELECT Geohash, count(Geohash) FROM TEMP_DF Where categorical_snow_yes1_no0_surface=1 group by Geohash order by count(Geohash) desc\").collect()\n",
    "\n",
    "print(\"Finished. it's been \" + str((datetime.now()-started_at).seconds) + \" seconds\")\n"
   ]
  },
  {
   "cell_type": "code",
   "execution_count": 7,
   "metadata": {
    "scrolled": true
   },
   "outputs": [
    {
     "name": "stdout",
     "output_type": "stream",
     "text": [
      "Row(Geohash='c43kcu3t702p', count(Geohash)=436)\n",
      "Row(Geohash='c43k6uu1egxb', count(Geohash)=436)\n",
      "Row(Geohash='c41uhb4r5n00', count(Geohash)=434)\n",
      "Row(Geohash='c41ueb1jyypb', count(Geohash)=434)\n",
      "Row(Geohash='c41v48pupf00', count(Geohash)=432)\n",
      "Row(Geohash='c438x5esgf00', count(Geohash)=422)\n",
      "Row(Geohash='c41v98n9w0xb', count(Geohash)=421)\n",
      "Row(Geohash='c43b05v7222p', count(Geohash)=421)\n",
      "Row(Geohash='c438fqgmsm00', count(Geohash)=417)\n",
      "Row(Geohash='c439n53vsxzz', count(Geohash)=417)\n"
     ]
    }
   ],
   "source": [
    "for i in range(10):\n",
    "    print(snow[i])\n",
    "\n",
    "\n",
    "\n"
   ]
  },
  {
   "cell_type": "markdown",
   "metadata": {},
   "source": [
    "I found the first ten locations have snow days over 365. Then, let's check the first one."
   ]
  },
  {
   "cell_type": "markdown",
   "metadata": {},
   "source": [
    "<img src=\"warm_up_3.png\"\n",
    "     alt=\"location\"\n",
    "     style=\"float: left; margin-right: 10px;\" />"
   ]
  },
  {
   "cell_type": "markdown",
   "metadata": {},
   "source": [
    "As shown in the screenshot, the location is on the mountain, close to Sheslay and Juneau and within the Atlin Provincial Park and Recreation area. "
   ]
  },
  {
   "cell_type": "code",
   "execution_count": null,
   "metadata": {},
   "outputs": [],
   "source": []
  }
 ],
 "metadata": {
  "kernelspec": {
   "display_name": "Python 3",
   "language": "python",
   "name": "python3"
  },
  "language_info": {
   "codemirror_mode": {
    "name": "ipython",
    "version": 3
   },
   "file_extension": ".py",
   "mimetype": "text/x-python",
   "name": "python",
   "nbconvert_exporter": "python",
   "pygments_lexer": "ipython3",
   "version": "3.6.5"
  }
 },
 "nbformat": 4,
 "nbformat_minor": 2
}
